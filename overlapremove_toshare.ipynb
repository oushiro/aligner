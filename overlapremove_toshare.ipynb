{
  "nbformat": 4,
  "nbformat_minor": 0,
  "metadata": {
    "colab": {
      "provenance": [],
      "include_colab_link": true
    },
    "kernelspec": {
      "name": "python3",
      "display_name": "Python 3"
    },
    "language_info": {
      "name": "python"
    }
  },
  "cells": [
    {
      "cell_type": "markdown",
      "metadata": {
        "id": "view-in-github",
        "colab_type": "text"
      },
      "source": [
        "<a href=\"https://colab.research.google.com/github/oushiro/aligner/blob/main/overlapremove_toshare.ipynb\" target=\"_parent\"><img src=\"https://colab.research.google.com/assets/colab-badge.svg\" alt=\"Open In Colab\"/></a>"
      ]
    },
    {
      "cell_type": "code",
      "execution_count": null,
      "metadata": {
        "id": "oH7m3lp9NI43"
      },
      "outputs": [],
      "source": [
        "!pip install textgrid"
      ]
    },
    {
      "cell_type": "code",
      "source": [
        "import os\n",
        "import textgrid\n",
        "\n",
        "# Carregar o Google Drive\n",
        "from google.colab import drive\n",
        "drive.mount('/content/drive')\n",
        "\n",
        "# Caminhos para as pastas de entrada e saída\n",
        "input_dir = '/content/drive/MyDrive/overlap_remove'  # Pasta onde estão os arquivos TextGrid\n",
        "output_dir = '/content/drive/MyDrive/processed_files'  # Pasta onde os arquivos processados serão salvos\n",
        "\n",
        "# Se a pasta de saída não existir, crie-a\n",
        "os.makedirs(output_dir, exist_ok=True)\n",
        "\n",
        "# Obter todos os arquivos TextGrid\n",
        "textgrid_files = [f for f in os.listdir(input_dir) if f.endswith('.TextGrid')]\n",
        "\n",
        "# Verificar se há arquivos TextGrid\n",
        "if len(textgrid_files) == 0:\n",
        "    print(\"Nenhum arquivo TextGrid encontrado\")\n",
        "else:\n",
        "    # Percorrer todos arquivos TextGrid\n",
        "    for file_name in textgrid_files:\n",
        "        input_file = os.path.join(input_dir, file_name)\n",
        "        output_file = os.path.join(output_dir, file_name)  # Manter o mesmo nome para o arquivo de saída\n",
        "\n",
        "        # Abrir o arquivo TextGrid\n",
        "        tg = textgrid.TextGrid.fromFile(input_file)\n",
        "\n",
        "        # Visualizar as camadas no TextGrid\n",
        "        print(f\"Processando o arquivo: {file_name}\")\n",
        "        print(\"As camadas neste arquivo TextGrid incluem:\")\n",
        "        for tier in tg.tiers:\n",
        "            print(f\"Nome da camada: {tier.name}\")\n",
        "\n",
        "        # Obter a camada-alvo e a camada de sobreposição\n",
        "        target_tier_name = 'S1'  # Supondo que o nome da camada-alvo seja 'S1'\n",
        "        overlap_tier_name = 'Overlap'  # Supondo que o nome da camada de sobreposição seja 'Overlap'\n",
        "\n",
        "        target_tier = None\n",
        "        overlap_tier = None\n",
        "\n",
        "        # Localizar a camada-alvo e a camada de sobreposição\n",
        "        for tier in tg.tiers:\n",
        "            if tier.name == target_tier_name:\n",
        "                target_tier = tier\n",
        "            if tier.name == overlap_tier_name:\n",
        "                overlap_tier = tier\n",
        "\n",
        "        # Se as camadas forem encontradas, realizar a exclusão das anotações\n",
        "        if target_tier and overlap_tier:\n",
        "            target_intervals = target_tier.intervals\n",
        "            overlap_intervals = overlap_tier.intervals\n",
        "\n",
        "            # Percorrer todas anotações na camada-alvo\n",
        "            for target in target_intervals:\n",
        "                target_start = target.minTime  # Obter o tempo inicial da anotação na camada-alvo\n",
        "                target_end = target.maxTime    # Obter o tempo final da anotação na camada-alvo\n",
        "\n",
        "                # Percorrer todas anotações na camada de sobreposição\n",
        "                for overlap in overlap_intervals:\n",
        "                    overlap_start = overlap.minTime  # Obter o tempo inicial da anotação na camada de sobreposição\n",
        "                    overlap_end = overlap.maxTime    # Obter o tempo final da anotação na camada de sobreposição\n",
        "\n",
        "                    # Se a anotação-alvo e a anotação de sobreposição coincidirem, excluir a anotação-alvo\n",
        "                    if overlap_start >= target_start and overlap_end <= target_end:\n",
        "                        target.mark = \"\"  # Limpar o conteúdo dessa anotação\n",
        "                        break  # Sobreposição confirmada, não é necessário continuar verificando\n",
        "\n",
        "            # Salvar o arquivo TextGrid modificado\n",
        "            tg.write(output_file)\n",
        "            print(f\"O arquivo TextGrid processado foi salvo em {output_file}\")\n",
        "        else:\n",
        "            print(\"Camada-alvo ou camada de sobreposição não encontrada. Verifique os nomes das camadas.\")"
      ],
      "metadata": {
        "id": "H3alDzqxNLwA"
      },
      "execution_count": null,
      "outputs": []
    }
  ]
}